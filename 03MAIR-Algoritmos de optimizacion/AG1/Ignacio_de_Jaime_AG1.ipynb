{
  "nbformat": 4,
  "nbformat_minor": 0,
  "metadata": {
    "colab": {
      "name": "Ignacio de Jaime - AG1.ipynb",
      "provenance": [],
      "collapsed_sections": [],
      "authorship_tag": "ABX9TyOKXyZfz49jaiX8k+aUDmjG",
      "include_colab_link": true
    },
    "kernelspec": {
      "name": "python3",
      "display_name": "Python 3"
    }
  },
  "cells": [
    {
      "cell_type": "markdown",
      "metadata": {
        "id": "view-in-github",
        "colab_type": "text"
      },
      "source": [
        "<a href=\"https://colab.research.google.com/github/ignacio727/03MAIR-Algoritmos-de-Optimizacion-2021/blob/main/03MAIR-Algoritmos%20de%20optimizacion/AG1/Ignacio_de_Jaime_AG1.ipynb\" target=\"_parent\"><img src=\"https://colab.research.google.com/assets/colab-badge.svg\" alt=\"Open In Colab\"/></a>"
      ]
    },
    {
      "cell_type": "markdown",
      "metadata": {
        "id": "3EjIymafkgpb"
      },
      "source": [
        "# Actividad Guiada 1 de Algoritmos de Optimización\n",
        "\n",
        "Ignacio de Jaime Hernández\n",
        "\n",
        "https://colab.research.google.com/drive/1vMSt_QK1sz0bXoNLDsZLwcRIrRfWSz95?usp=sharing\n",
        "\n",
        "https://github.com/ignacio727/03MAIR-Algoritmos-de-Optimizacion-2020/tree/main/03MAIR-Algoritmos%20de%20optimizacion/AG1\n",
        "\n",
        "## Divide y vencerás\n",
        "\n",
        "### Problema: Torres de Hanoy"
      ]
    },
    {
      "cell_type": "code",
      "metadata": {
        "colab": {
          "base_uri": "https://localhost:8080/"
        },
        "id": "-xKYHU63leb6",
        "outputId": "c0140277-ba7d-4f8a-ca69-ca61628eaa41"
      },
      "source": [
        "# Torres de Hanoy\n",
        "\n",
        "def torres_hanoy(N, desde, hasta):\n",
        "  if N==1:\n",
        "    print('LLevar desde %0.0f hasta %0.0f' %(desde, hasta))\n",
        "  else:\n",
        "    torres_hanoy(N-1, desde, 6-desde-hasta)\n",
        "    print('LLevar desde %0.0f hasta %0.0f' %(desde, hasta))\n",
        "    torres_hanoy(N-1, 6-desde-hasta, hasta)\n",
        "\n",
        "torres_hanoy(3, 1, 3)"
      ],
      "execution_count": null,
      "outputs": [
        {
          "output_type": "stream",
          "text": [
            "LLevar desde 1 hasta 3\n",
            "LLevar desde 1 hasta 2\n",
            "LLevar desde 3 hasta 2\n",
            "LLevar desde 1 hasta 3\n",
            "LLevar desde 2 hasta 1\n",
            "LLevar desde 2 hasta 3\n",
            "LLevar desde 1 hasta 3\n"
          ],
          "name": "stdout"
        }
      ]
    },
    {
      "cell_type": "markdown",
      "metadata": {
        "id": "2u_o8_monnPQ"
      },
      "source": [
        "## Algoritmo voraz\n",
        "\n",
        "### Problema: Cambio de monedas"
      ]
    },
    {
      "cell_type": "code",
      "metadata": {
        "colab": {
          "base_uri": "https://localhost:8080/"
        },
        "id": "NtfUm3aGmbS8",
        "outputId": "8312c562-18b0-49b9-c977-3d708c342f1a"
      },
      "source": [
        "# Cambio de monedas\n",
        "\n",
        "sistema_monetario = [30, 10, 5, 1]\n",
        "\n",
        "def cambio_monedas(N=1 , SM=sistema_monetario):\n",
        "  valor_acumulado = 0\n",
        "  Sol = [0]*len(SM)\n",
        "  for i, m in enumerate(SM):\n",
        "    monedas = int((N-valor_acumulado)/m)\n",
        "    Sol[i] = monedas\n",
        "    valor_acumulado = valor_acumulado + monedas*m\n",
        "    if valor_acumulado==N:\n",
        "      return Sol\n",
        "\n",
        "print(cambio_monedas(N=59, SM=sistema_monetario)) "
      ],
      "execution_count": null,
      "outputs": [
        {
          "output_type": "stream",
          "text": [
            "[1, 2, 1, 4]\n"
          ],
          "name": "stdout"
        }
      ]
    },
    {
      "cell_type": "markdown",
      "metadata": {
        "id": "XegPfk-Dv9bq"
      },
      "source": [
        "## Algoritmo Backtracking\n",
        "\n",
        "### Problema: Problema de las 4 reinas"
      ]
    },
    {
      "cell_type": "code",
      "metadata": {
        "colab": {
          "base_uri": "https://localhost:8080/"
        },
        "id": "SX1YMfyIgCx5",
        "outputId": "f064058e-7df9-4915-d816-1195b66bfc78"
      },
      "source": [
        "def reinas(N, solucion=[0], etapa=0):\n",
        "  # Si solucion[etapa] aun no tuviese ningún valor asignado, al\n",
        "  # intentar darle un valor en el primer bucle dará error.\n",
        "  if len(solucion) == etapa:\n",
        "    # Comprobación para añadir un valor más si hiciese falta.\n",
        "    solucion.append(0)\n",
        "  for i in range(1, N+1):\n",
        "    solucion[etapa] = i\n",
        "\n",
        "    if es_valida(solucion, etapa):\n",
        "      if etapa == N-1:\n",
        "        print('La solución es: ', solucion)\n",
        "      else:\n",
        "        reinas(N, solucion, etapa+1)\n",
        "  solucion[etapa] = 0\n",
        "\n",
        "def es_valida(solucion, etapa):\n",
        "  for i in range(etapa+1):\n",
        "    if solucion.count(solucion[i]) > 1:\n",
        "      return False\n",
        "    for j in range(i+1, etapa+1):\n",
        "      if abs(i-j) == abs(solucion[i]-solucion[j]):\n",
        "        return False\n",
        "  return True\n",
        "\n",
        "reinas(4)"
      ],
      "execution_count": null,
      "outputs": [
        {
          "output_type": "stream",
          "text": [
            "La solución es:  [2, 4, 1, 3]\n",
            "La solución es:  [3, 1, 4, 2]\n"
          ],
          "name": "stdout"
        }
      ]
    },
    {
      "cell_type": "markdown",
      "metadata": {
        "id": "a3Xokb8IN4Fu"
      },
      "source": [
        "# Programación dinámica\n",
        "\n",
        "## Problema: Viaje por el río"
      ]
    },
    {
      "cell_type": "code",
      "metadata": {
        "id": "A1wWQt0ZOLFS"
      },
      "source": [
        "def precios_ruta(tarifas, desde, hasta):\n",
        "  N = len(tarifas[0]) # Número de nodos.\n",
        "  # Inicialización de la lista de precios y rutas \n",
        "  # que empiezan desde el nodo 'desde'.\n",
        "  precios = [999]*N\n",
        "  ruta = ['']*N\n",
        "\n",
        "  for j in range(desde+1, hasta+1):\n",
        "    precios[j] = tarifas[desde][j]\n",
        "    ruta[j] = ('Desde ' + str(desde) + ' hasta ' + str(j) + \n",
        "                      ' (Precio = ' + str(precios[j]) + ')\\n')\n",
        "    for k in range(desde+1, j+1):\n",
        "      if precios[k] + tarifas[k][j] < precios[j]:\n",
        "        precios[j] = precios[k] + tarifas[k][j]\n",
        "        ruta[j] = (ruta[k] + 'Desde ' + str(k) + \n",
        "        ' hasta ' + str(j) + ' (Precio = ' + str(tarifas[k][j]) + ')\\n')\n",
        "\n",
        "  print('Coste total =', precios[hasta])\n",
        "  print(ruta[hasta])\n",
        "\n",
        "tarifas = [[0, 5, 4, 3, 999, 999, 999],\n",
        "           [999, 0 ,999, 2, 3, 999, 11],\n",
        "           [999, 999, 0, 1, 999, 4, 10],\n",
        "           [999, 999, 999, 0, 5, 6, 9],\n",
        "           [999, 999, 999, 999, 0, 999, 4],\n",
        "           [999, 999, 999, 999, 999, 0, 3],\n",
        "           [999, 999, 999, 999, 999, 999, 0]]\n",
        "\n",
        "precios_ruta(tarifas, 0, 6)"
      ],
      "execution_count": null,
      "outputs": []
    },
    {
      "cell_type": "markdown",
      "metadata": {
        "id": "pMHwmP2SOV_7"
      },
      "source": [
        "Para no hacer exactamente la misma función de la actividad guiada, se ha realizado una función que escriba por pantalla directamente precios y ruta. Además, sólo usa los datos que necesita, ya que no es necesario realizar la matriz completa de precios y rutas para hayar la ruta entre 2 nodos."
      ]
    },
    {
      "cell_type": "code",
      "metadata": {
        "id": "e6LzmjxWOWny"
      },
      "source": [
        ""
      ],
      "execution_count": null,
      "outputs": []
    }
  ]
}